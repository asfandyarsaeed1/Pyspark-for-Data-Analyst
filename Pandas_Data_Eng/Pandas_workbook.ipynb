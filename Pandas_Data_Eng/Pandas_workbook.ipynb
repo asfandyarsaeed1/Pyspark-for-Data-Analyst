{
 "cells": [
  {
   "attachments": {},
   "cell_type": "markdown",
   "metadata": {},
   "source": [
    "## **Pandas and MYSQL**"
   ]
  },
  {
   "cell_type": "code",
   "execution_count": 1,
   "metadata": {},
   "outputs": [
    {
     "data": {
      "text/html": [
       "\n",
       "            <div>\n",
       "                <p><b>SparkSession - in-memory</b></p>\n",
       "                \n",
       "        <div>\n",
       "            <p><b>SparkContext</b></p>\n",
       "\n",
       "            <p><a href=\"http://IT-130-21:4041\">Spark UI</a></p>\n",
       "\n",
       "            <dl>\n",
       "              <dt>Version</dt>\n",
       "                <dd><code>v3.2.1</code></dd>\n",
       "              <dt>Master</dt>\n",
       "                <dd><code>local[*]</code></dd>\n",
       "              <dt>AppName</dt>\n",
       "                <dd><code>pyspark-shell</code></dd>\n",
       "            </dl>\n",
       "        </div>\n",
       "        \n",
       "            </div>\n",
       "        "
      ],
      "text/plain": [
       "<pyspark.sql.session.SparkSession at 0x22de967bb20>"
      ]
     },
     "execution_count": 1,
     "metadata": {},
     "output_type": "execute_result"
    }
   ],
   "source": [
    "import findspark\n",
    "\n",
    "\n",
    "findspark.init()\n",
    "import pyspark\n",
    "\n",
    "from pyspark.sql import SparkSession\n",
    "from pyspark.sql.functions import *\n",
    "\n",
    "spark = SparkSession.builder.getOrCreate()\n",
    "\n",
    "spark"
   ]
  },
  {
   "cell_type": "code",
   "execution_count": 2,
   "metadata": {},
   "outputs": [
    {
     "name": "stdout",
     "output_type": "stream",
     "text": [
      "['USER', 'HOST', 'CURRENT_CONNECTIONS', 'TOTAL_CONNECTIONS']\n"
     ]
    },
    {
     "data": {
      "text/plain": [
       "[(None, None, 38, 53),\n",
       " ('event_scheduler', 'localhost', 1, 1),\n",
       " ('root', 'localhost', 3, 10)]"
      ]
     },
     "execution_count": 2,
     "metadata": {},
     "output_type": "execute_result"
    }
   ],
   "source": [
    "import mysql.connector\n",
    "\n",
    "# establishing the connection\n",
    "conn = mysql.connector.connect(\n",
    "    user='root',password='Huawei@1234qwe', host='localhost', port=3306, database='performance_schema')\n",
    "\n",
    "cursor = conn.cursor()\n",
    "cursor.execute('select * from accounts')\n",
    "result = cursor.fetchall()\n",
    "column_names = [desc[0] for desc in cursor.description]\n",
    "\n",
    "cursor.close()\n",
    "conn.close()\n",
    "\n",
    "# Display column names and data\n",
    "print(column_names)\n",
    "\n",
    "result"
   ]
  },
  {
   "attachments": {},
   "cell_type": "markdown",
   "metadata": {},
   "source": [
    "### **Make a pandas DataFrame**"
   ]
  },
  {
   "cell_type": "code",
   "execution_count": 3,
   "metadata": {},
   "outputs": [
    {
     "data": {
      "application/javascript": "\n        if (window._pyforest_update_imports_cell) { window._pyforest_update_imports_cell('import pandas as pd'); }\n    ",
      "text/plain": [
       "<IPython.core.display.Javascript object>"
      ]
     },
     "metadata": {},
     "output_type": "display_data"
    },
    {
     "name": "stdout",
     "output_type": "stream",
     "text": [
      "              USER       HOST  CURRENT_CONNECTIONS  TOTAL_CONNECTIONS\n",
      "0             None       None                   38                 53\n",
      "1  event_scheduler  localhost                    1                  1\n",
      "2             root  localhost                    3                 10\n"
     ]
    }
   ],
   "source": [
    "pa=pd.DataFrame(result,columns=column_names)\n",
    "print(pa)"
   ]
  },
  {
   "attachments": {},
   "cell_type": "markdown",
   "metadata": {},
   "source": [
    "### **Make a spark DataFrame**"
   ]
  },
  {
   "cell_type": "code",
   "execution_count": 5,
   "metadata": {},
   "outputs": [],
   "source": [
    "from pyspark.sql.types import StructType, StructField, StringType, IntegerType\n",
    "\n",
    "schema = StructType([\n",
    "    StructField(\"USER\", StringType(), True),\n",
    "    StructField(\"HOST\", StringType(), True),\n",
    "    StructField(\"CURRENT_CONNECTIONS\", IntegerType(), True),\n",
    "    StructField(\"TOTAL_CONNECTIONS\", IntegerType(), True)\n",
    "])"
   ]
  },
  {
   "cell_type": "code",
   "execution_count": 6,
   "metadata": {},
   "outputs": [
    {
     "name": "stdout",
     "output_type": "stream",
     "text": [
      "+---------------+---------+-------------------+-----------------+\n",
      "|           USER|     HOST|CURRENT_CONNECTIONS|TOTAL_CONNECTIONS|\n",
      "+---------------+---------+-------------------+-----------------+\n",
      "|           null|     null|                 38|               53|\n",
      "|event_scheduler|localhost|                  1|                1|\n",
      "|           root|localhost|                  3|               10|\n",
      "+---------------+---------+-------------------+-----------------+\n",
      "\n"
     ]
    }
   ],
   "source": [
    "df=spark.createDataFrame(result,schema=schema)\n",
    "df.show()"
   ]
  },
  {
   "cell_type": "code",
   "execution_count": null,
   "metadata": {},
   "outputs": [],
   "source": []
  }
 ],
 "metadata": {
  "kernelspec": {
   "display_name": "Python 3",
   "language": "python",
   "name": "python3"
  },
  "language_info": {
   "codemirror_mode": {
    "name": "ipython",
    "version": 3
   },
   "file_extension": ".py",
   "mimetype": "text/x-python",
   "name": "python",
   "nbconvert_exporter": "python",
   "pygments_lexer": "ipython3",
   "version": "3.10.1"
  },
  "orig_nbformat": 4
 },
 "nbformat": 4,
 "nbformat_minor": 2
}
